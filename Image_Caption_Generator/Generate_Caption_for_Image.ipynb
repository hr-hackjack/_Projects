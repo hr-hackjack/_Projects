{
 "cells": [
  {
   "cell_type": "code",
   "execution_count": 2,
   "id": "c525dd20",
   "metadata": {},
   "outputs": [],
   "source": [
    "import numpy as np\n",
    "import pandas as pd\n",
    "import matplotlib.pyplot as plt\n",
    "\n",
    "import tensorflow as tf"
   ]
  },
  {
   "cell_type": "code",
   "execution_count": 3,
   "id": "9c806cb7",
   "metadata": {},
   "outputs": [],
   "source": [
    "from keras.models import load_model, Model\n",
    "\n",
    "from tensorflow.keras.preprocessing.sequence import pad_sequences\n",
    "\n",
    "from tensorflow.keras.applications.resnet50 import ResNet50, preprocess_input"
   ]
  },
  {
   "cell_type": "code",
   "execution_count": 4,
   "id": "fec65f24",
   "metadata": {},
   "outputs": [],
   "source": [
    "# Read the files word_to_idx.pkl and idx_to_word.pkl to get the mappings between word and index\n",
    "word_to_index = {}\n",
    "with open (\"data/textFiles/word_to_idx.pkl\", 'rb') as file:\n",
    "    word_to_index = pd.read_pickle(file)\n",
    "\n",
    "index_to_word = {}\n",
    "with open (\"data/textFiles/idx_to_word.pkl\", 'rb') as file:\n",
    "    index_to_word = pd.read_pickle(file)"
   ]
  },
  {
   "cell_type": "code",
   "execution_count": 5,
   "id": "4793c7ab",
   "metadata": {},
   "outputs": [],
   "source": [
    "resnet50_model = ResNet50 (weights = 'imagenet', input_shape = (224, 224, 3))\n",
    "resnet50_model = Model (resnet50_model.input, resnet50_model.layers[-2].output)"
   ]
  },
  {
   "cell_type": "code",
   "execution_count": 6,
   "id": "2890d6c3",
   "metadata": {},
   "outputs": [],
   "source": [
    "def preprocess_image (img):\n",
    "    img = tf.keras.utils.load_img(img, target_size=(224, 224))\n",
    "    img = tf.keras.utils.img_to_array(img)\n",
    "\n",
    "    # Convert 3D tensor to a 4D tendor\n",
    "    img = np.expand_dims(img, axis=0)\n",
    "\n",
    "    #Normalize image accoring to ResNet50 requirement\n",
    "    img = preprocess_input(img)\n",
    "\n",
    "    return img"
   ]
  },
  {
   "cell_type": "code",
   "execution_count": 7,
   "id": "959debe3",
   "metadata": {},
   "outputs": [],
   "source": [
    "# Encoding (feature vector)\n",
    "def encode_image (img):\n",
    "    img = preprocess_image(img)\n",
    "\n",
    "    feature_vector = resnet50_model.predict(img)\n",
    "    return feature_vector"
   ]
  },
  {
   "cell_type": "code",
   "execution_count": 8,
   "id": "93cae830",
   "metadata": {},
   "outputs": [],
   "source": [
    "# Generate Captions for an image\n",
    "def predict_caption(photo):\n",
    "\n",
    "    inp_text = \"startseq\"\n",
    "\n",
    "    for i in range(38):\n",
    "        sequence = [word_to_index[w] for w in inp_text.split() if w in word_to_index]\n",
    "        sequence = pad_sequences([sequence], maxlen=38, padding='post')\n",
    "\n",
    "        ypred = model.predict([photo, sequence])\n",
    "        ypred = ypred.argmax()\n",
    "        word = index_to_word[ypred]\n",
    "\n",
    "        inp_text += (' ' + word)\n",
    "\n",
    "        if word == 'endseq':\n",
    "            break\n",
    "\n",
    "    final_caption = inp_text.split()[1:-1]\n",
    "    final_caption = ' '.join(final_caption)\n",
    "    return final_caption"
   ]
  },
  {
   "cell_type": "code",
   "execution_count": null,
   "id": "79ac1f9f",
   "metadata": {},
   "outputs": [],
   "source": [
    "print(\"Loading the Neural_Image_Caption_Model...\\n\")\n",
    "model = load_model('Models/model_19.h5')\n",
    "\n",
    "\n",
    "\n",
    "print(\"Encoding the image ...\")\n",
    "img_name = \"image.jpg\"\n",
    "photo = encode_image(img_name).reshape((1, 2048))\n",
    "\n",
    "\n",
    "print(\"\\n\\nRunning model to generate the caption...\")\n",
    "caption = predict_caption(photo)\n",
    "\n",
    "img_data = plt.imread(img_name)\n",
    "plt.imshow(img_data)\n",
    "plt.axis(\"off\")\n",
    "\n",
    "plt.show()\n",
    "print(caption)\n"
   ]
  },
  {
   "cell_type": "code",
   "execution_count": null,
   "id": "c0f847e0",
   "metadata": {},
   "outputs": [],
   "source": []
  },
  {
   "cell_type": "code",
   "execution_count": null,
   "id": "87f7888f",
   "metadata": {},
   "outputs": [],
   "source": []
  }
 ],
 "metadata": {
  "kernelspec": {
   "display_name": "Python 3 (ipykernel)",
   "language": "python",
   "name": "python3"
  },
  "language_info": {
   "codemirror_mode": {
    "name": "ipython",
    "version": 3
   },
   "file_extension": ".py",
   "mimetype": "text/x-python",
   "name": "python",
   "nbconvert_exporter": "python",
   "pygments_lexer": "ipython3",
   "version": "3.9.13"
  }
 },
 "nbformat": 4,
 "nbformat_minor": 5
}
